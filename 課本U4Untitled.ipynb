{
 "cells": [
  {
   "cell_type": "code",
   "execution_count": 12,
   "metadata": {},
   "outputs": [
    {
     "name": "stdout",
     "output_type": "stream",
     "text": [
      "area= 72.73888275532752\n"
     ]
    }
   ],
   "source": [
    "import math\n",
    "n=5\n",
    "pi=3.14\n",
    "s=6.5\n",
    "area=(n*(s**2))/(4*math.tan(pi/n))\n",
    "print('area=' ,area)"
   ]
  },
  {
   "cell_type": "code",
   "execution_count": 13,
   "metadata": {},
   "outputs": [
    {
     "name": "stdout",
     "output_type": "stream",
     "text": [
      "distance= 7.826237921249264\n"
     ]
    }
   ],
   "source": [
    "x1=2\n",
    "y1=1\n",
    "x2=5.5\n",
    "y2=8\n",
    "distance=((x1-x2)**2+(y1-y2)**2)**(1/2)\n",
    "print('distance=' ,distance)"
   ]
  },
  {
   "cell_type": "code",
   "execution_count": 14,
   "metadata": {},
   "outputs": [
    {
     "name": "stdout",
     "output_type": "stream",
     "text": [
      "area= 6.0\n"
     ]
    }
   ],
   "source": [
    "(a,b,c)=(3,4,5)\n",
    "s=(a+b+c)/2\n",
    "area=(s*(s-a)*(s-b)*(s-c))**(1/2)\n",
    "print('area=' ,area)"
   ]
  },
  {
   "cell_type": "code",
   "execution_count": null,
   "metadata": {},
   "outputs": [],
   "source": []
  }
 ],
 "metadata": {
  "kernelspec": {
   "display_name": "Python 3",
   "language": "python",
   "name": "python3"
  },
  "language_info": {
   "codemirror_mode": {
    "name": "ipython",
    "version": 3
   },
   "file_extension": ".py",
   "mimetype": "text/x-python",
   "name": "python",
   "nbconvert_exporter": "python",
   "pygments_lexer": "ipython3",
   "version": "3.7.3"
  }
 },
 "nbformat": 4,
 "nbformat_minor": 2
}
